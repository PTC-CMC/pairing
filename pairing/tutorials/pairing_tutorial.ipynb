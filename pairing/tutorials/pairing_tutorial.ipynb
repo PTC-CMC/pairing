{
 "cells": [
  {
   "cell_type": "code",
   "execution_count": 29,
   "metadata": {},
   "outputs": [],
   "source": [
    "import mdtraj as md\n",
    "import pairing\n",
    "import numpy as np\n",
    "import matplotlib.pyplot as plt"
   ]
  },
  {
   "cell_type": "markdown",
   "metadata": {},
   "source": [
    "# We will demonstrate how to calculate ion pairs in a solution of ionic liquids\n",
    "### Pairing of molecules is determined by a distance criteria, and the information is stored in a direct correlation matrix.  The direct correlation matrix is constructed from a diagonal matrix of size NxN where N is the number of molecules in the system.  Each row (or column) can be thought of the connections that a particular molecule has with the other molecules in the system.  If molecule `i` is more than distance criteria away from molecule `j`, they are not connected and a 0 is placed in the `i,j` position of the matrix.  If the distance between the two molecules are less than the distance criteria, the molecules are considered to be paired and a 1 is placed in the position instead.\n",
    "### For this example, we will load in a trajectory containing the ionic liquid, ($[BMIM^+][Tf_2N^-]$), and acetonitrile.  We will calculate the pairs and clusters of ions in solution."
   ]
  },
  {
   "cell_type": "markdown",
   "metadata": {},
   "source": [
    "### First, let's use MDTraj to load a GROMACS trajectory"
   ]
  },
  {
   "cell_type": "code",
   "execution_count": 5,
   "metadata": {},
   "outputs": [],
   "source": [
    "trj = md.load('sample_files/slice.xtc', top='sample_files/sample.gro')\n",
    "#trj = trj[:2]"
   ]
  },
  {
   "cell_type": "markdown",
   "metadata": {},
   "source": [
    "### Now we will slice the trajectory to only include the ions $BMIM^+$ and $Tf_2N^-$"
   ]
  },
  {
   "cell_type": "code",
   "execution_count": 6,
   "metadata": {},
   "outputs": [],
   "source": [
    "sliced = trj.topology.select('resname bmim tf2n')\n",
    "trj_slice = trj.atom_slice(sliced)"
   ]
  },
  {
   "cell_type": "markdown",
   "metadata": {},
   "source": [
    "### Next let's call `pairing.calc_direct` to calculate a direct correlation matrix for each frame of the trajectory.  We choose 0.53 nm as our `cutoff` distance as this correlates to the first radial distribution (RDF) peak between $BMIM^+$ and $Tf_2N^-$ "
   ]
  },
  {
   "cell_type": "code",
   "execution_count": 7,
   "metadata": {},
   "outputs": [],
   "source": [
    "pairs = pairing.calc_direct(trj_slice, cutoff=0.53)"
   ]
  },
  {
   "cell_type": "markdown",
   "metadata": {},
   "source": [
    "### Now that we've calculated direct correlation matrices for each frame, let's inspect the matrix for the first frame and see what's going on."
   ]
  },
  {
   "cell_type": "code",
   "execution_count": 8,
   "metadata": {},
   "outputs": [
    {
     "data": {
      "text/plain": [
       "array([[1, 0, 0, ..., 0, 0, 0],\n",
       "       [0, 1, 0, ..., 0, 0, 0],\n",
       "       [0, 0, 1, ..., 0, 0, 0],\n",
       "       ...,\n",
       "       [0, 0, 0, ..., 1, 0, 0],\n",
       "       [0, 0, 0, ..., 0, 1, 0],\n",
       "       [0, 0, 0, ..., 0, 0, 1]], dtype=int32)"
      ]
     },
     "execution_count": 8,
     "metadata": {},
     "output_type": "execute_result"
    }
   ],
   "source": [
    "pairs[0]"
   ]
  },
  {
   "cell_type": "markdown",
   "metadata": {},
   "source": [
    "### From first glance, we can see from the 1's in non-diagonal indices that some ions are paired with each other.  Let's take a look at the pairings for the ion in the first row."
   ]
  },
  {
   "cell_type": "code",
   "execution_count": 9,
   "metadata": {},
   "outputs": [],
   "source": [
    "first = pairs[0][0]"
   ]
  },
  {
   "cell_type": "code",
   "execution_count": 10,
   "metadata": {},
   "outputs": [
    {
     "name": "stdout",
     "output_type": "stream",
     "text": [
      "[1 0 0 0 0 0 0 0 0 0 0 0 0 0 0 0 0 0 0 0 0 0 0 0 0 0 0 0 0 0 0 0 0 0 0 0 0\n",
      " 0 0 0 0 0 0 0 0 0 0 0 0 0 0 0 0 0 0 0 0 0 0 0 0 1 0 0 0 0 0 0 0 0 0 0 0 0\n",
      " 0 0 0 0 0 0 0 0 0 0 0 0 0 0 0 0 0 0 0 0 0 0 0 0 0 0]\n"
     ]
    }
   ],
   "source": [
    "print(first)"
   ]
  },
  {
   "cell_type": "code",
   "execution_count": 11,
   "metadata": {},
   "outputs": [
    {
     "data": {
      "text/plain": [
       "array([[ 0],\n",
       "       [61]])"
      ]
     },
     "execution_count": 11,
     "metadata": {},
     "output_type": "execute_result"
    }
   ],
   "source": [
    "np.argwhere(first>0)"
   ]
  },
  {
   "cell_type": "markdown",
   "metadata": {},
   "source": [
    "### By running `np.argwhere`, we see that there is a value of 1 in two indices of the first row of the matrix: 0 and 37.  We can ignore the 1 in the index 0 as this corresponds to the ion we are computing pairs for.  However, we see that ion 1 is paired to ion 81.\n",
    "\n",
    "### Now we can loop through all the rows in this matrix and check how many pairs each ions has."
   ]
  },
  {
   "cell_type": "code",
   "execution_count": 12,
   "metadata": {},
   "outputs": [
    {
     "name": "stdout",
     "output_type": "stream",
     "text": [
      "ion 1 has 1 total pairs\n",
      "ion 2 has 0 total pairs\n",
      "ion 3 has 1 total pairs\n",
      "ion 4 has 3 total pairs\n",
      "ion 5 has 2 total pairs\n",
      "ion 6 has 1 total pairs\n",
      "ion 7 has 2 total pairs\n",
      "ion 8 has 2 total pairs\n",
      "ion 9 has 2 total pairs\n",
      "ion 10 has 1 total pairs\n",
      "ion 11 has 0 total pairs\n",
      "ion 12 has 1 total pairs\n",
      "ion 13 has 0 total pairs\n",
      "ion 14 has 1 total pairs\n",
      "ion 15 has 0 total pairs\n",
      "ion 16 has 1 total pairs\n",
      "ion 17 has 2 total pairs\n",
      "ion 18 has 0 total pairs\n",
      "ion 19 has 1 total pairs\n",
      "ion 20 has 0 total pairs\n",
      "ion 21 has 1 total pairs\n",
      "ion 22 has 1 total pairs\n",
      "ion 23 has 0 total pairs\n",
      "ion 24 has 0 total pairs\n",
      "ion 25 has 2 total pairs\n",
      "ion 26 has 1 total pairs\n",
      "ion 27 has 2 total pairs\n",
      "ion 28 has 2 total pairs\n",
      "ion 29 has 1 total pairs\n",
      "ion 30 has 0 total pairs\n",
      "ion 31 has 0 total pairs\n",
      "ion 32 has 1 total pairs\n",
      "ion 33 has 0 total pairs\n",
      "ion 34 has 1 total pairs\n",
      "ion 35 has 1 total pairs\n",
      "ion 36 has 0 total pairs\n",
      "ion 37 has 0 total pairs\n",
      "ion 38 has 0 total pairs\n",
      "ion 39 has 0 total pairs\n",
      "ion 40 has 1 total pairs\n",
      "ion 41 has 0 total pairs\n",
      "ion 42 has 1 total pairs\n",
      "ion 43 has 1 total pairs\n",
      "ion 44 has 1 total pairs\n",
      "ion 45 has 0 total pairs\n",
      "ion 46 has 0 total pairs\n",
      "ion 47 has 2 total pairs\n",
      "ion 48 has 1 total pairs\n",
      "ion 49 has 0 total pairs\n",
      "ion 50 has 0 total pairs\n",
      "ion 51 has 2 total pairs\n",
      "ion 52 has 0 total pairs\n",
      "ion 53 has 0 total pairs\n",
      "ion 54 has 1 total pairs\n",
      "ion 55 has 1 total pairs\n",
      "ion 56 has 0 total pairs\n",
      "ion 57 has 1 total pairs\n",
      "ion 58 has 3 total pairs\n",
      "ion 59 has 0 total pairs\n",
      "ion 60 has 0 total pairs\n",
      "ion 61 has 0 total pairs\n",
      "ion 62 has 1 total pairs\n",
      "ion 63 has 0 total pairs\n",
      "ion 64 has 1 total pairs\n",
      "ion 65 has 1 total pairs\n",
      "ion 66 has 2 total pairs\n",
      "ion 67 has 0 total pairs\n",
      "ion 68 has 3 total pairs\n",
      "ion 69 has 1 total pairs\n",
      "ion 70 has 3 total pairs\n",
      "ion 71 has 0 total pairs\n",
      "ion 72 has 0 total pairs\n",
      "ion 73 has 2 total pairs\n",
      "ion 74 has 0 total pairs\n",
      "ion 75 has 0 total pairs\n",
      "ion 76 has 2 total pairs\n",
      "ion 77 has 1 total pairs\n",
      "ion 78 has 1 total pairs\n",
      "ion 79 has 1 total pairs\n",
      "ion 80 has 0 total pairs\n",
      "ion 81 has 0 total pairs\n",
      "ion 82 has 0 total pairs\n",
      "ion 83 has 4 total pairs\n",
      "ion 84 has 0 total pairs\n",
      "ion 85 has 1 total pairs\n",
      "ion 86 has 2 total pairs\n",
      "ion 87 has 2 total pairs\n",
      "ion 88 has 2 total pairs\n",
      "ion 89 has 2 total pairs\n",
      "ion 90 has 0 total pairs\n",
      "ion 91 has 0 total pairs\n",
      "ion 92 has 0 total pairs\n",
      "ion 93 has 1 total pairs\n",
      "ion 94 has 0 total pairs\n",
      "ion 95 has 0 total pairs\n",
      "ion 96 has 3 total pairs\n",
      "ion 97 has 1 total pairs\n",
      "ion 98 has 1 total pairs\n",
      "ion 99 has 0 total pairs\n",
      "ion 100 has 1 total pairs\n"
     ]
    }
   ],
   "source": [
    "for i,j in enumerate(pairs[0]):\n",
    "    num_pairs = len(np.argwhere(j>0)) - 1\n",
    "    print('ion {} has {} total pairs'.format(i+1, num_pairs))"
   ]
  },
  {
   "cell_type": "markdown",
   "metadata": {},
   "source": [
    "### We can also check the total number of pairs in this trajectory frame.  We will do this by counting the pairs in each row and then dividing by 2 to double-counting the pairs."
   ]
  },
  {
   "cell_type": "code",
   "execution_count": 13,
   "metadata": {},
   "outputs": [
    {
     "name": "stdout",
     "output_type": "stream",
     "text": [
      "The total number of ion pairs in this frame is 44\n"
     ]
    }
   ],
   "source": [
    "total_pairs = 0\n",
    "for i,j in enumerate(pairs[0]):\n",
    "    num_pairs = len(np.argwhere(j>0)) - 1\n",
    "    total_pairs += num_pairs\n",
    "total_pairs /= 2\n",
    "print('The total number of ion pairs in this frame is {}'.format(int(total_pairs)))"
   ]
  },
  {
   "cell_type": "markdown",
   "metadata": {},
   "source": [
    "### We can also compute if there are any clusters of ions in solution.  To do this we first calculate the direct matrices for all frames"
   ]
  },
  {
   "cell_type": "code",
   "execution_count": 14,
   "metadata": {},
   "outputs": [],
   "source": [
    "all_directs = pairing.calc_direct(trj_slice, cutoff=0.53)"
   ]
  },
  {
   "cell_type": "markdown",
   "metadata": {},
   "source": [
    "### Then, convert the direct correlation matrix to an indirect correlation matrix.  An indirect connection is when ion i is paired with ion j, and ion j is paired with ion k.  In this instance, ion i is indirectly correlated to ion k."
   ]
  },
  {
   "cell_type": "code",
   "execution_count": 15,
   "metadata": {},
   "outputs": [],
   "source": [
    "all_indirects = pairing.calc_indirect(all_directs)"
   ]
  },
  {
   "cell_type": "markdown",
   "metadata": {},
   "source": [
    "### From the indirect correlation matrix, we can determine if any clusters of ions exist in our system by reducing the matrix.  "
   ]
  },
  {
   "cell_type": "code",
   "execution_count": 16,
   "metadata": {},
   "outputs": [],
   "source": [
    "clusters = pairing.calc_reduc(all_indirects)"
   ]
  },
  {
   "cell_type": "code",
   "execution_count": 64,
   "metadata": {},
   "outputs": [],
   "source": [
    "cluster_count = list()\n",
    "cluster_sizes = list()\n",
    "for matrix in clusters:\n",
    "    for i in range(len(matrix[0])):\n",
    "        cluster_count.append(np.sum(matrix[:,i]))\n",
    "    cluster_sizes.append(cluster_count)"
   ]
  },
  {
   "cell_type": "code",
   "execution_count": 20,
   "metadata": {},
   "outputs": [],
   "source": [
    "flat_list = [item for sublist in cluster_sizes for item in sublist]\n",
    "bins = np.array(range(np.max(flat_list)))\n",
    "x = np.histogram(flat_list, bins=bins)"
   ]
  },
  {
   "cell_type": "markdown",
   "metadata": {},
   "source": [
    "### Let's plot a histogram of the cluster sizes.  From these results, we see that the majority of ions are alone and are not clustered.  However some ions are also in small clusters up to 6."
   ]
  },
  {
   "cell_type": "code",
   "execution_count": 65,
   "metadata": {},
   "outputs": [
    {
     "data": {
      "image/png": "[encoded data removed]",
      "text/plain": [
       "<Figure size 432x288 with 1 Axes>"
      ]
     },
     "metadata": {
      "needs_background": "light"
     },
     "output_type": "display_data"
    }
   ],
   "source": [
    "%matplotlib inline\n",
    "\n",
    "fig, ax = plt.subplots()\n",
    "ax.set_xlabel(r'Cluster size, $N_{ions}$', fontsize=15)\n",
    "ax.set_ylabel(r'Number of clusters of size $N_{ions}$', fontsize=15)\n",
    "ax.hlines(0, min(x[1][:-1]), max(x[1][:-1]))\n",
    "ax.bar(x[1][:-1], x[0]/len(cluster_sizes)*x[1][:-1])\n",
    "\n",
    "plt.show()"
   ]
  }
 ],
 "metadata": {
  "kernelspec": {
   "display_name": "Python 3",
   "language": "python",
   "name": "python3"
  },
  "language_info": {
   "codemirror_mode": {
    "name": "ipython",
    "version": 3
   },
   "file_extension": ".py",
   "mimetype": "text/x-python",
   "name": "python",
   "nbconvert_exporter": "python",
   "pygments_lexer": "ipython3",
   "version": "3.6.8"
  }
 },
 "nbformat": 4,
 "nbformat_minor": 2
}
