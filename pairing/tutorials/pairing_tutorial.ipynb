{
 "cells": [
  {
   "cell_type": "code",
   "execution_count": 17,
   "metadata": {},
   "outputs": [],
   "source": [
    "import mdtraj as md\n",
    "import pairing\n",
    "import numpy as np"
   ]
  },
  {
   "cell_type": "markdown",
   "metadata": {},
   "source": [
    "# We will demonstrate how to calculate ion pairs in a solution of ionic liquids\n",
    "### Pairing of molecules is determined by a distance criteria, and the information is stored in a direct correlation matrix.  The direct correlation matrix is constructed from a diagonal matrix of size NxN where N is the number of molecules in the system.  Each row (or column) can be thought of the connections that a particular molecule has with the other molecules in the system.  If molecule `i` is more than distance criteria away from molecule `j`, they are not connected and a 0 is placed in the `i,j` position of the matrix.  If the distance between the two molecules are less than the distance criteria, the molecules are considered to be paired and a 1 is placed in the position instead.\n",
    "### For this example, we will load in a trajectory containing the ionic liquid, ($[BMIM^+][Tf_2N^-]$), and acetonitrile.  We will calculate the pairs and clusters of ions in solution."
   ]
  },
  {
   "cell_type": "markdown",
   "metadata": {},
   "source": [
    "### First, let's use MDTraj to load a GROMACS trajectory"
   ]
  },
  {
   "cell_type": "code",
   "execution_count": 66,
   "metadata": {},
   "outputs": [],
   "source": [
    "trj = md.load('sample_files/slice.xtc', top='sample_files/sample.gro')"
   ]
  },
  {
   "cell_type": "markdown",
   "metadata": {},
   "source": [
    "### Now we will slice the trajectory to only include the ions $BMIM^+$ and $Tf_2N^-$"
   ]
  },
  {
   "cell_type": "code",
   "execution_count": 67,
   "metadata": {},
   "outputs": [],
   "source": [
    "sliced = trj.topology.select('resname bmim tf2n')\n",
    "trj_slice = trj.atom_slice(sliced)"
   ]
  },
  {
   "cell_type": "markdown",
   "metadata": {},
   "source": [
    "### Next let's call `pairing.calc_direct` to calculate a direct correlation matrix for each frame of the trajectory.  We choose 0.53 nm as our `cutoff` distance as this correlates to the first radial distribution (RDF) peak between $BMIM^+$ and $Tf_2N^-$ "
   ]
  },
  {
   "cell_type": "code",
   "execution_count": 68,
   "metadata": {},
   "outputs": [],
   "source": [
    "pairs = pairing.calc_direct(trj_slice, cutoff=0.53)"
   ]
  },
  {
   "cell_type": "markdown",
   "metadata": {},
   "source": [
    "### Now that we've calculated direct correlation matrices for each frame, let's inspect the matrix for the first frame and see what's going on."
   ]
  },
  {
   "cell_type": "code",
   "execution_count": 69,
   "metadata": {},
   "outputs": [
    {
     "data": {
      "text/plain": [
       "array([[1, 0, 0, ..., 1, 0, 0],\n",
       "       [0, 1, 0, ..., 0, 0, 0],\n",
       "       [0, 0, 1, ..., 0, 0, 0],\n",
       "       ...,\n",
       "       [1, 0, 0, ..., 1, 0, 0],\n",
       "       [0, 0, 0, ..., 0, 1, 0],\n",
       "       [0, 0, 0, ..., 0, 0, 1]], dtype=int32)"
      ]
     },
     "execution_count": 69,
     "metadata": {},
     "output_type": "execute_result"
    }
   ],
   "source": [
    "pairs[0]"
   ]
  },
  {
   "cell_type": "markdown",
   "metadata": {},
   "source": [
    "### From first glance, we can see from the 1's in non-diagonal indices that some ions are paired with each other.  Let's take a look at the pairings for the ion in the first row."
   ]
  },
  {
   "cell_type": "code",
   "execution_count": 70,
   "metadata": {},
   "outputs": [],
   "source": [
    "first = pairs[0][0]"
   ]
  },
  {
   "cell_type": "code",
   "execution_count": 71,
   "metadata": {},
   "outputs": [
    {
     "name": "stdout",
     "output_type": "stream",
     "text": [
      "[1 0 0 0 0 0 0 0 0 0 0 0 0 0 0 0 0 0 0 0 0 0 0 0 0 0 0 0 0 0 0 0 0 0 0 0 0\n",
      " 1 0 0]\n"
     ]
    }
   ],
   "source": [
    "print(first)"
   ]
  },
  {
   "cell_type": "code",
   "execution_count": 72,
   "metadata": {},
   "outputs": [
    {
     "data": {
      "text/plain": [
       "array([[ 0],\n",
       "       [37]])"
      ]
     },
     "execution_count": 72,
     "metadata": {},
     "output_type": "execute_result"
    }
   ],
   "source": [
    "np.argwhere(first>0)"
   ]
  },
  {
   "cell_type": "markdown",
   "metadata": {},
   "source": [
    "### By running `np.argwhere`, we see that there is a value of 1 in two indices of the first row of the matrix: 0 and 37.  We can ignore the 1 in the index 0 as this corresponds to the ion we are computing pairs for.  However, we see that ion 1 is paired to ion 38.\n",
    "\n",
    "### Now we can loop through all the rows in this matrix and check how many pairs each ions has."
   ]
  },
  {
   "cell_type": "code",
   "execution_count": 73,
   "metadata": {},
   "outputs": [
    {
     "name": "stdout",
     "output_type": "stream",
     "text": [
      "ion 1 has 1 total pairs\n",
      "ion 2 has 0 total pairs\n",
      "ion 3 has 0 total pairs\n",
      "ion 4 has 0 total pairs\n",
      "ion 5 has 0 total pairs\n",
      "ion 6 has 0 total pairs\n",
      "ion 7 has 0 total pairs\n",
      "ion 8 has 0 total pairs\n",
      "ion 9 has 0 total pairs\n",
      "ion 10 has 0 total pairs\n",
      "ion 11 has 0 total pairs\n",
      "ion 12 has 0 total pairs\n",
      "ion 13 has 1 total pairs\n",
      "ion 14 has 0 total pairs\n",
      "ion 15 has 0 total pairs\n",
      "ion 16 has 1 total pairs\n",
      "ion 17 has 0 total pairs\n",
      "ion 18 has 0 total pairs\n",
      "ion 19 has 0 total pairs\n",
      "ion 20 has 0 total pairs\n",
      "ion 21 has 0 total pairs\n",
      "ion 22 has 0 total pairs\n",
      "ion 23 has 0 total pairs\n",
      "ion 24 has 1 total pairs\n",
      "ion 25 has 0 total pairs\n",
      "ion 26 has 0 total pairs\n",
      "ion 27 has 1 total pairs\n",
      "ion 28 has 0 total pairs\n",
      "ion 29 has 0 total pairs\n",
      "ion 30 has 0 total pairs\n",
      "ion 31 has 0 total pairs\n",
      "ion 32 has 0 total pairs\n",
      "ion 33 has 0 total pairs\n",
      "ion 34 has 0 total pairs\n",
      "ion 35 has 0 total pairs\n",
      "ion 36 has 0 total pairs\n",
      "ion 37 has 0 total pairs\n",
      "ion 38 has 1 total pairs\n",
      "ion 39 has 0 total pairs\n",
      "ion 40 has 0 total pairs\n"
     ]
    }
   ],
   "source": [
    "for i,j in enumerate(pairs[6]):\n",
    "    num_pairs = len(np.argwhere(j>0)) - 1\n",
    "    print('ion {} has {} total pairs'.format(i+1, num_pairs))"
   ]
  },
  {
   "cell_type": "markdown",
   "metadata": {},
   "source": [
    "### We can also check the total number of pairs in this trajectory frame.  We will do this by counting pairs in each row and then dividing by 2 to double-counting the pairs."
   ]
  },
  {
   "cell_type": "code",
   "execution_count": 74,
   "metadata": {},
   "outputs": [
    {
     "name": "stdout",
     "output_type": "stream",
     "text": [
      "The total number of ion pairs in this frame is 4\n"
     ]
    }
   ],
   "source": [
    "total_pairs = 0\n",
    "for i,j in enumerate(pairs[0]):\n",
    "    num_pairs = len(np.argwhere(j>0)) - 1\n",
    "    total_pairs += num_pairs\n",
    "total_pairs /= 2\n",
    "print('The total number of ion pairs in this frame is {}'.format(int(total_pairs)))"
   ]
  },
  {
   "cell_type": "markdown",
   "metadata": {},
   "source": [
    "### We can also compute if there are any clusters of ions in solution.  To do this we first convert the direct correlation matrix to an indirect correlation matrix.  An indirect connection is when ion i is paired with ion j, and ion j is paired with ion k.  In this instance, ion i is indirectly correlated to ion k."
   ]
  },
  {
   "cell_type": "code",
   "execution_count": 77,
   "metadata": {},
   "outputs": [],
   "source": [
    "indirect = pairing.calc_indirect(pairs)"
   ]
  },
  {
   "cell_type": "markdown",
   "metadata": {},
   "source": [
    "### From the indirect correlation matrix, we can determine if any clusters of ions exist in our system.  "
   ]
  },
  {
   "cell_type": "code",
   "execution_count": 83,
   "metadata": {},
   "outputs": [],
   "source": [
    "clusters = pairing.calc_reduc(indirect)"
   ]
  },
  {
   "cell_type": "code",
   "execution_count": null,
   "metadata": {},
   "outputs": [],
   "source": []
  }
 ],
 "metadata": {
  "kernelspec": {
   "display_name": "Python 3",
   "language": "python",
   "name": "python3"
  },
  "language_info": {
   "codemirror_mode": {
    "name": "ipython",
    "version": 3
   },
   "file_extension": ".py",
   "mimetype": "text/x-python",
   "name": "python",
   "nbconvert_exporter": "python",
   "pygments_lexer": "ipython3",
   "version": "3.6.8"
  }
 },
 "nbformat": 4,
 "nbformat_minor": 2
}
