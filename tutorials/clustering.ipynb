{
 "cells": [
  {
   "cell_type": "markdown",
   "metadata": {},
   "source": [
    "## Calculating Clusters\n",
    "This is a very simple tutorial demonstrating how to calculate clusters from a MDTraj trajectory.  We will be using the simple example from the paper: doi 10.1063/1.454720, where the clustering algorithm was derived."
   ]
  },
  {
   "cell_type": "markdown",
   "metadata": {},
   "source": [
    "## Installation\n",
    "This package only depends on `NumPy` and `MDTraj`.  These can either be installed by running `pip install -r requirements.txt` at the root directory of this package, or `conda install --file requirements.txt`.\n",
    "\n",
    "Once the dependencies have been installed, `pairing` can be installed by running `pip install -e .`"
   ]
  },
  {
   "cell_type": "code",
   "execution_count": null,
   "metadata": {},
   "outputs": [],
   "source": [
    "import pairing\n",
    "import numpy as np"
   ]
  },
  {
   "cell_type": "markdown",
   "metadata": {},
   "source": [
    "## Checklist before starting\n",
    "- Ensure that the molecules in your trajectory are properly wrapped inside the simulation box.  That is, make sure that molecules are not across the PBC.  With GROMACS, this can be done by running `gmx trjconv` on the command line.\n",
    "- Determine the distance criteria for your system.  This will determine which molecules are paired in your system."
   ]
  },
  {
   "cell_type": "markdown",
   "metadata": {},
   "source": [
    "## Direct Correlation Matrix\n",
    "The first step is to calculate the direct correlation matrix of your system.  This is a sparse matrix in which position [i,i] in the matrix represents molecule i and position [i,j] represents the pairing of molecule i and molecule j.  A value of 1 represents two molecules are paired, and a value of 0 represents two molecules are unpaired.\n",
    "\n",
    "The function to calculate this is `pairing.calc_direct`.  This function has two arguments: `trj` and `cutoff`.  `trj` is a MDTraj trajectory, and `cutoff` is the distance cutoff that determines whether or not two molecules are paired.\n",
    "\n",
    "For this tutorial, we will not be calling this function.  Instead, we will be using the example presented in doi 10.1063/1.454720.  Please refer to Fig. 12 which shows a system of 5 beads.  In this system, bead 1 is paired to bead 5, bead 5 is paired to bead 3, bead 3 is paired to bead 2, and bead 4 is unpaired.  As a result, the following direct correlation matrix represents this system:\n",
    "\n",
    "```\n",
    "direct = np.asarray([[[1, 0, 0, 0, 1],\n",
    "                      [0, 1, 1, 0, 0],                 \n",
    "                      [0, 1, 1, 0, 1],\n",
    "                      [0, 0, 0, 1, 0],\n",
    "                      [1, 0, 1, 0, 1]]], dtype=np.int32)\n",
    "```                  \n",
    "\n",
    "Let's take a look at the first row, which represents bead 1.  The first index (0) has a value of 1, since this index represents bead 1 itself.  Indices 1, 2, and 3 have values of 0, since bead 1 in not paired to beads 2, 3, or 4.  Finally, index 4 has a value of 1, since beads 1 and 5 are paired."
   ]
  },
  {
   "cell_type": "markdown",
   "metadata": {},
   "source": [
    "## Indirect Correlation Matrix\n",
    "The next step is to calculate the indirect correlation matrix, which represents the molecules that are indirectly paired in a given system.  Sticking with the same example, beads 1,2,3, and 5 are defined as indirectly connected to eachother.  The indirectly paired molecules are how we will count the clusters in our system.\n",
    "\n",
    "To calculate this, the `pairing.calc_indirect` function will be called.  The argument for this function is the direct correlation matrix."
   ]
  },
  {
   "cell_type": "code",
   "execution_count": null,
   "metadata": {},
   "outputs": [],
   "source": [
    "direct = np.asarray([[[1, 0, 0, 0, 1],\n",
    "                      [0, 1, 1, 0, 0],                 \n",
    "                      [0, 1, 1, 0, 1],\n",
    "                      [0, 0, 0, 1, 0],\n",
    "                      [1, 0, 1, 0, 1]]], dtype=np.int32)\n",
    "\n",
    "indirect = pairing.calc_indirect(direct)\n",
    "print(indirect)"
   ]
  },
  {
   "cell_type": "markdown",
   "metadata": {},
   "source": [
    "The resulting indirect matrix should match A3 in doi 10.1063/1.454720.  Looking at row 1, we can see that beads 1, 2, 3, and 5 are indirectly paired.  Further, the fourth row shows that bead 4 is unpaired."
   ]
  },
  {
   "cell_type": "markdown",
   "metadata": {},
   "source": [
    "## Reducing the indirect correlation matrix\n",
    "Now that that indirect correlation matrix has been calculated, we can now calculate the number of clusters in our system.  If you look at the indirect matrix, you may notice that the rows that represent beads 1, 2, 3, and 5 are identical.  Based on this, we can reduce the matrix so that we have a matrix of our clusters in the system.\n",
    "\n",
    "To do this, we will use the function `pairing.calc_reduc`.  The argument for this function is the indirect correlation matrix."
   ]
  },
  {
   "cell_type": "code",
   "execution_count": null,
   "metadata": {},
   "outputs": [],
   "source": [
    "reduced = pairing.calc_reduc(indirect)\n",
    "print(reduced)"
   ]
  },
  {
   "cell_type": "markdown",
   "metadata": {},
   "source": [
    "Looking at `reduced`, we now have a matrix with two columns.  The first column represents the first cluster in this system, which is the unpaired bead 4.  The second column represents the second cluster in our system, which includes beads 1, 2, 3, and 5.  With this information, we can calculate a) How many clusters are in the system, and b) how large each cluster is."
   ]
  },
  {
   "cell_type": "code",
   "execution_count": null,
   "metadata": {},
   "outputs": [],
   "source": []
  }
 ],
 "metadata": {
  "kernelspec": {
   "display_name": "Python 3",
   "language": "python",
   "name": "python3"
  },
  "language_info": {
   "codemirror_mode": {
    "name": "ipython",
    "version": 3
   },
   "file_extension": ".py",
   "mimetype": "text/x-python",
   "name": "python",
   "nbconvert_exporter": "python",
   "pygments_lexer": "ipython3",
   "version": "3.7.8"
  }
 },
 "nbformat": 4,
 "nbformat_minor": 4
}
